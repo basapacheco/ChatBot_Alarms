{
 "cells": [
  {
   "cell_type": "code",
   "execution_count": 4,
   "id": "a8eb1624-f8bb-45f7-9b49-ee98ecc44c3e",
   "metadata": {
    "tags": []
   },
   "outputs": [
    {
     "name": "stdout",
     "output_type": "stream",
     "text": [
      "¡Hola! Bienvenido al servicio de seguridad de ADT. ¿Cómo te llamas?\n"
     ]
    },
    {
     "name": "stdin",
     "output_type": "stream",
     "text": [
      "Usuario:  pablo\n"
     ]
    },
    {
     "name": "stdout",
     "output_type": "stream",
     "text": [
      "Encantado, pablo. Para poder ayudarte mejor, ¿podrías proporcionarme tu código postal?\n"
     ]
    },
    {
     "name": "stdin",
     "output_type": "stream",
     "text": [
      "Usuario:  28028\n"
     ]
    },
    {
     "name": "stdout",
     "output_type": "stream",
     "text": [
      "Verificando cobertura para el código postal 28028... Por favor, espera un momento.\n",
      "¿La consulta es para una vivienda habitual o una segunda residencia?\n",
      "Por favor selecciona una opción:\n",
      "1. Vivienda habitual\n",
      "2. Segunda residencia\n"
     ]
    },
    {
     "name": "stdin",
     "output_type": "stream",
     "text": [
      "Usuario:  1\n"
     ]
    },
    {
     "name": "stdout",
     "output_type": "stream",
     "text": [
      "Perfecto, pablo. ¿Vives solo o con más personas? ¿Tienes niños, animales o alguna persona mayor en casa?\n"
     ]
    },
    {
     "name": "stdin",
     "output_type": "stream",
     "text": [
      "Usuario:  solo\n"
     ]
    },
    {
     "name": "stdout",
     "output_type": "stream",
     "text": [
      "¿Cuántos accesos principales tiene tu propiedad?\n"
     ]
    },
    {
     "name": "stdin",
     "output_type": "stream",
     "text": [
      "Usuario:  1\n"
     ]
    },
    {
     "name": "stdout",
     "output_type": "stream",
     "text": [
      "¿Tienes jardín o áreas externas importantes?\n"
     ]
    },
    {
     "name": "stdin",
     "output_type": "stream",
     "text": [
      "Usuario:  terraza\n"
     ]
    },
    {
     "name": "stdout",
     "output_type": "stream",
     "text": [
      "¿Hay objetos de valor específicos que quieras proteger?\n"
     ]
    },
    {
     "name": "stdin",
     "output_type": "stream",
     "text": [
      "Usuario:  un armero\n"
     ]
    },
    {
     "name": "stdout",
     "output_type": "stream",
     "text": [
      "¿Ya tienes algún sistema de alarma instalado o estás buscando instalar uno nuevo?\n"
     ]
    },
    {
     "name": "stdin",
     "output_type": "stream",
     "text": [
      "Usuario:  si\n"
     ]
    },
    {
     "name": "stdout",
     "output_type": "stream",
     "text": [
      "¿Con qué empresa tienes instalado el sistema de alarma?\n"
     ]
    },
    {
     "name": "stdin",
     "output_type": "stream",
     "text": [
      "Usuario:  verisure\n"
     ]
    }
   ],
   "source": [
    "import csv\n",
    "import os\n",
    "\n",
    "class ChatbotADT:\n",
    "    def __init__(self):\n",
    "        self.nombre = \"\"\n",
    "        self.apellido = \"\"\n",
    "        self.correo = \"\"\n",
    "        self.telefono = \"\"\n",
    "        self.codigo_postal = \"\"\n",
    "        self.tipo_vivienda = \"\"\n",
    "        self.caracteristicas = \"\"\n",
    "        self.necesidades = \"\"\n",
    "        self.alarma = \"\"\n",
    "        self.servicios_adicionales = \"\"\n",
    "\n",
    "    def iniciar_conversacion(self):\n",
    "        print(\"¡Hola! Bienvenido al servicio de seguridad de ADT. ¿Cómo te llamas?\")\n",
    "        self.nombre = self.validar_entrada(input(\"Usuario: \"))\n",
    "        print(f\"Encantado, {self.nombre}. Para poder ayudarte mejor, ¿podrías proporcionarme tu código postal?\")\n",
    "        self.codigo_postal = self.validar_entrada(input(\"Usuario: \"))\n",
    "        if self.verificar_cobertura():\n",
    "            self.recoger_datos_contacto()\n",
    "        else:\n",
    "            self.registrar_no_cobertura()\n",
    "\n",
    "    def validar_entrada(self, entrada):\n",
    "        while not entrada.strip():\n",
    "            print(\"Por favor, introduce una respuesta válida.\")\n",
    "            entrada = input(\"Usuario: \")\n",
    "        return entrada\n",
    "\n",
    "    def verificar_cobertura(self):\n",
    "        print(f\"Verificando cobertura para el código postal {self.codigo_postal}... Por favor, espera un momento.\")\n",
    "        try:\n",
    "            with open(\"cobertura.csv\", mode='r') as file:\n",
    "                reader = csv.DictReader(file)\n",
    "                for row in reader:\n",
    "                    if row[\"CodigoPostal\"] == self.codigo_postal:\n",
    "                        return True\n",
    "            return False\n",
    "        except FileNotFoundError:\n",
    "            with open(\"cobertura.csv\", mode='w', newline='') as file:\n",
    "                writer = csv.writer(file)\n",
    "                writer.writerow([\"CodigoPostal\", \"Cobertura\"])\n",
    "            return False\n",
    "\n",
    "    def recoger_datos_contacto(self):\n",
    "        print(\"¿La consulta es para una vivienda habitual o una segunda residencia?\")\n",
    "        self.tipo_vivienda = self.seleccionar_tipo_vivienda()\n",
    "        if self.tipo_vivienda:\n",
    "            if self.tipo_vivienda.lower() == \"habitual\":\n",
    "                self.detalle_vivienda_habitual()\n",
    "            elif self.tipo_vivienda.lower() == \"segunda residencia\":\n",
    "                self.detalle_vivienda_segunda()\n",
    "            else:\n",
    "                print(\"Lo siento, no entendí tu respuesta. ¿Podrías repetirla?\")\n",
    "                self.recoger_datos_contacto()\n",
    "\n",
    "    def seleccionar_tipo_vivienda(self):\n",
    "        print(\"Por favor selecciona una opción:\")\n",
    "        print(\"1. Vivienda habitual\")\n",
    "        print(\"2. Segunda residencia\")\n",
    "        respuesta = self.validar_entrada(input(\"Usuario: \"))\n",
    "        if respuesta.lower() in [\"vivienda habitual\", \"habitual\", \"1\"]:\n",
    "            return \"habitual\"\n",
    "        elif respuesta.lower() in [\"segunda residencia\", \"segunda\", \"2\"]:\n",
    "            return \"segunda residencia\"\n",
    "        else:\n",
    "            print(\"Lo siento, no entendí tu respuesta. ¿Podrías repetirla?\")\n",
    "            return None\n",
    "\n",
    "    def detalle_vivienda_habitual(self):\n",
    "        print(f\"Perfecto, {self.nombre}. ¿Vives solo o con más personas? ¿Tienes niños, animales o alguna persona mayor en casa?\")\n",
    "        self.necesidades = self.validar_entrada(input(\"Usuario: \"))\n",
    "        print(\"¿Cuántos accesos principales tiene tu propiedad?\")\n",
    "        self.caracteristicas = self.validar_entrada(input(\"Usuario: \"))\n",
    "        print(\"¿Tienes jardín o áreas externas importantes?\")\n",
    "        self.caracteristicas += \", \" + self.validar_entrada(input(\"Usuario: \"))\n",
    "        print(\"¿Hay objetos de valor específicos que quieras proteger?\")\n",
    "        self.caracteristicas += \", \" + self.validar_entrada(input(\"Usuario: \"))\n",
    "        self.preguntar_sistema_alarma()\n",
    "\n",
    "    def detalle_vivienda_segunda(self):\n",
    "        print(\"Nuestras soluciones son ideales para proteger propiedades mientras no estás.\")\n",
    "        print(\"¿Cuánto tiempo suele estar deshabitada tu segunda residencia durante el año?\")\n",
    "        self.caracteristicas = self.validar_entrada(input(\"Usuario: \"))\n",
    "        self.preguntar_sistema_alarma()\n",
    "\n",
    "    def preguntar_sistema_alarma(self):\n",
    "        print(\"¿Ya tienes algún sistema de alarma instalado o estás buscando instalar uno nuevo?\")\n",
    "        respuesta = self.validar_entrada(input(\"Usuario: \"))\n",
    "        if \"adt\" in respuesta:\n",
    "            print(\"El número de atención al cliente de ADT es 91 444 44 00. Esta línea es únicamente para consultas sobre contrataciones. ¡Muchas gracias!\")\n",
    "            self.registrar_en_base_de_datos()\n",
    "        elif respuesta.lower() in [\"sí\", \"si\", \"yes\", \"y\"]:\n",
    "            print(\"¿Con qué empresa tienes instalado el sistema de alarma?\")\n",
    "            empresa = self.validar_entrada(input(\"Usuario: \"))\n",
    "            # Continuar con el flujo de la conversación\n",
    "        elif respuesta.lower() in [\"no\", \"n\"]:\n",
    "            # Continuar con el flujo de la conversación\n",
    "            pass\n",
    "        else:\n",
    "            print(\"Lo siento, no entendí tu respuesta. ¿Podrías repetirla?\")\n",
    "            self.preguntar_sistema_alarma()\n",
    "\n",
    "    def registrar_en_base_de_datos(self):\n",
    "        datos_registro = [self.codigo_postal, self.nombre, self.apellido, self.correo, self.telefono, self.tipo_vivienda, self.caracteristicas, self.necesidades, self.alarma]\n",
    "        self.almacenar_registro(datos_registro)\n",
    "        print(\"Gracias por proporcionar tus datos. Se han registrado correctamente en la base de datos.\")\n",
    "        print(\"¿Hay algo más en lo que pueda ayudarte?\")\n",
    "\n",
    "    def almacenar_registro(self, datos_registro):\n",
    "        header = [\"CodigoPostal\", \"Nombre\", \"Apellido\", \"Correo\", \"Telefono\", \"TipoVivienda\", \"Caracteristicas\", \"Necesidades\", \"Alarma\"]\n",
    "        if not os.path.isfile(\"registros.csv\"):\n",
    "            with open(\"registros.csv\", mode='w', newline='') as file:\n",
    "                writer = csv.writer(file)\n",
    "                writer.writerow(header)\n",
    "        with open(\"registros.csv\", mode='a', newline='') as file:\n",
    "            writer = csv.writer(file)\n",
    "            writer.writerow(datos_registro)\n",
    "\n",
    "    def registrar_no_cobertura(self):\n",
    "        print(\"Lamentablemente, no ofrecemos servicio en tu área actualmente.\")\n",
    "        print(\"Si deseas hablar con nuestra empresa, por favor contáctanos en el número de Atención al Cliente de ADT: 91 444 44 00 o envía un correo a acliente@adt.com.es.\")\n",
    "        # Aquí puedes agregar más opciones o acciones si es necesario\n",
    "\n",
    "# Instanciamos el chatbot y comenzamos la conversación\n",
    "chatbot = ChatbotADT()\n",
    "chatbot.iniciar_conversacion()\n",
    "\n"
   ]
  },
  {
   "cell_type": "code",
   "execution_count": null,
   "id": "6758d856-1377-48e1-9e67-b1e965ad1659",
   "metadata": {},
   "outputs": [],
   "source": []
  }
 ],
 "metadata": {
  "kernelspec": {
   "display_name": "Python 3 (ipykernel)",
   "language": "python",
   "name": "python3"
  },
  "language_info": {
   "codemirror_mode": {
    "name": "ipython",
    "version": 3
   },
   "file_extension": ".py",
   "mimetype": "text/x-python",
   "name": "python",
   "nbconvert_exporter": "python",
   "pygments_lexer": "ipython3",
   "version": "3.11.5"
  }
 },
 "nbformat": 4,
 "nbformat_minor": 5
}
