{
 "cells": [
  {
   "cell_type": "code",
   "execution_count": 1,
   "id": "c0e5faeb-4340-4ce5-98e0-cb1650fbc143",
   "metadata": {
    "tags": []
   },
   "outputs": [
    {
     "name": "stdout",
     "output_type": "stream",
     "text": [
      "Requirement already satisfied: torch in /Users/pablobasapacheco/anaconda3/lib/python3.11/site-packages (2.2.2)\n",
      "Requirement already satisfied: torchvision in /Users/pablobasapacheco/anaconda3/lib/python3.11/site-packages (0.17.2)\n",
      "Requirement already satisfied: torchaudio in /Users/pablobasapacheco/anaconda3/lib/python3.11/site-packages (2.2.2)\n",
      "Requirement already satisfied: filelock in /Users/pablobasapacheco/anaconda3/lib/python3.11/site-packages (from torch) (3.9.0)\n",
      "Requirement already satisfied: typing-extensions>=4.8.0 in /Users/pablobasapacheco/anaconda3/lib/python3.11/site-packages (from torch) (4.12.2)\n",
      "Requirement already satisfied: sympy in /Users/pablobasapacheco/anaconda3/lib/python3.11/site-packages (from torch) (1.11.1)\n",
      "Requirement already satisfied: networkx in /Users/pablobasapacheco/anaconda3/lib/python3.11/site-packages (from torch) (3.1)\n",
      "Requirement already satisfied: jinja2 in /Users/pablobasapacheco/anaconda3/lib/python3.11/site-packages (from torch) (3.1.2)\n",
      "Requirement already satisfied: fsspec in /Users/pablobasapacheco/anaconda3/lib/python3.11/site-packages (from torch) (2023.4.0)\n",
      "Requirement already satisfied: numpy in /Users/pablobasapacheco/anaconda3/lib/python3.11/site-packages (from torchvision) (1.24.3)\n",
      "Requirement already satisfied: pillow!=8.3.*,>=5.3.0 in /Users/pablobasapacheco/anaconda3/lib/python3.11/site-packages (from torchvision) (9.4.0)\n",
      "Requirement already satisfied: MarkupSafe>=2.0 in /Users/pablobasapacheco/anaconda3/lib/python3.11/site-packages (from jinja2->torch) (2.1.1)\n",
      "Requirement already satisfied: mpmath>=0.19 in /Users/pablobasapacheco/anaconda3/lib/python3.11/site-packages (from sympy->torch) (1.3.0)\n",
      "Note: you may need to restart the kernel to use updated packages.\n"
     ]
    }
   ],
   "source": [
    "pip install torch torchvision torchaudio\n"
   ]
  },
  {
   "cell_type": "code",
   "execution_count": 2,
   "id": "95ba2af2-8ae4-4cbd-abcd-b9a920a7270c",
   "metadata": {
    "tags": []
   },
   "outputs": [
    {
     "name": "stdout",
     "output_type": "stream",
     "text": [
      "2.2.2\n"
     ]
    }
   ],
   "source": [
    "import torch\n",
    "print(torch.__version__)"
   ]
  },
  {
   "cell_type": "code",
   "execution_count": null,
   "id": "4fe1ba0c-d8ea-4f36-ac52-c8a86cccfc85",
   "metadata": {
    "tags": []
   },
   "outputs": [
    {
     "name": "stderr",
     "output_type": "stream",
     "text": [
      "2024-06-08 16:12:47,323 - INFO - Verificando archivos necesarios...\n",
      "2024-06-08 16:12:47,328 - INFO - Cargando y preprocesando datos...\n",
      "2024-06-08 16:12:48,150 - INFO - Entrenando modelo de Machine Learning...\n",
      "2024-06-08 16:13:04,372 - INFO - Precisión del modelo: 81.10%\n",
      "2024-06-08 16:13:04,383 - INFO - Instanciando el modelo de NLP de Hugging Face...\n",
      "2024-06-08 16:13:07,357 - INFO - Instanciando el chatbot y comenzando la conversación...\n",
      "2024-06-08 16:13:07,460 - INFO - Iniciando conversación con el usuario.\n"
     ]
    },
    {
     "name": "stdin",
     "output_type": "stream",
     "text": [
      "¡Hola! Bienvenido al servicio de seguridad de ADT. ¿Cómo te llamas?\n",
      "Usuario:  julio\n",
      "Por favor, proporciona tus apellidos.\n",
      "Usuario:  cesar\n",
      "Encantado, julio. Para poder ayudarte mejor, ¿podrías proporcionarme tu código postal?\n",
      "Usuario:  03802\n"
     ]
    },
    {
     "name": "stderr",
     "output_type": "stream",
     "text": [
      "2024-06-08 16:13:22,257 - INFO - Verificando cobertura para el código postal 03802.\n",
      "/Users/pablobasapacheco/anaconda3/lib/python3.11/site-packages/sklearn/base.py:464: UserWarning: X does not have valid feature names, but RandomForestClassifier was fitted with feature names\n",
      "  warnings.warn(\n"
     ]
    },
    {
     "name": "stdout",
     "output_type": "stream",
     "text": [
      "Cobertura disponible según el modelo.\n"
     ]
    },
    {
     "name": "stdin",
     "output_type": "stream",
     "text": [
      "¿La consulta es para una vivienda habitual o una segunda residencia?\n",
      "Usuario:  haitual\n"
     ]
    },
    {
     "name": "stdout",
     "output_type": "stream",
     "text": [
      "Lo siento, no entendí tu respuesta. Vamos a intentarlo de nuevo.\n"
     ]
    },
    {
     "name": "stdin",
     "output_type": "stream",
     "text": [
      "¿La consulta es para una vivienda habitual o una segunda residencia?\n",
      "Usuario:  habitual\n",
      "Perfecto, julio. ¿Vives solo o con más personas? ¿Tienes niños, animales o alguna persona mayor en casa?\n",
      "Usuario:  solo\n",
      "¿Cuántos accesos principales tiene tu propiedad?\n",
      "Usuario:  2\n",
      "¿Tienes jardín o áreas externas importantes?\n",
      "Usuario:  si\n",
      "¿Hay objetos de valor específicos que quieras proteger?\n",
      "Usuario:  armas\n",
      "¿Ya tienes algún sistema de alarma instalado o estás buscando instalar uno nuevo?\n",
      "Usuario:  no\n",
      "Para poder contactarte y ofrecerte una oferta personalizada, ¿podrías proporcionar tu número de teléfono?\n",
      "Usuario:  678678678\n",
      "¿Y tu correo electrónico?\n",
      "Usuario:  julio@yahoo.com\n"
     ]
    },
    {
     "name": "stderr",
     "output_type": "stream",
     "text": [
      "2024-06-08 16:14:06,704 - INFO - Datos registrados para el usuario julio.\n"
     ]
    },
    {
     "name": "stdout",
     "output_type": "stream",
     "text": [
      "Muchas gracias. Nuestro equipo comercial te contactará de lunes a viernes de 9 a 17 horas.\n",
      "Gracias por proporcionar tus datos. Se han registrado correctamente en la base de datos.\n",
      "¿Hay algo más en lo que pueda ayudarte?\n",
      "Gracias por usar nuestro servicio. Que tenga un buen día.\n"
     ]
    },
    {
     "name": "stdin",
     "output_type": "stream",
     "text": [
      "Para poder contactarte y ofrecerte una oferta personalizada, ¿podrías proporcionar tu número de teléfono?\n",
      "Usuario:  678678678\n",
      "¿Y tu correo electrónico?\n",
      "Usuario:  julio@yahoo.com\n"
     ]
    },
    {
     "name": "stderr",
     "output_type": "stream",
     "text": [
      "2024-06-08 16:14:22,601 - INFO - Datos registrados para el usuario julio.\n",
      "2024-06-08 16:14:22,603 - INFO - Verificando si es necesario actualizar el modelo de Machine Learning...\n",
      "2024-06-08 16:14:22,604 - INFO - Cargando y preprocesando datos...\n"
     ]
    },
    {
     "name": "stdout",
     "output_type": "stream",
     "text": [
      "Muchas gracias. Nuestro equipo comercial te contactará de lunes a viernes de 9 a 17 horas.\n",
      "Gracias por proporcionar tus datos. Se han registrado correctamente en la base de datos.\n",
      "¿Hay algo más en lo que pueda ayudarte?\n",
      "Gracias por usar nuestro servicio. Que tenga un buen día.\n"
     ]
    },
    {
     "name": "stderr",
     "output_type": "stream",
     "text": [
      "2024-06-08 16:14:23,118 - INFO - Entrenando modelo de Machine Learning...\n"
     ]
    }
   ],
   "source": []
  },
  {
   "cell_type": "code",
   "execution_count": null,
   "id": "63ed0f1a-83c0-4be7-bfb3-510a08076324",
   "metadata": {},
   "outputs": [],
   "source": []
  }
 ],
 "metadata": {
  "kernelspec": {
   "display_name": "Python 3 (ipykernel)",
   "language": "python",
   "name": "python3"
  },
  "language_info": {
   "codemirror_mode": {
    "name": "ipython",
    "version": 3
   },
   "file_extension": ".py",
   "mimetype": "text/x-python",
   "name": "python",
   "nbconvert_exporter": "python",
   "pygments_lexer": "ipython3",
   "version": "3.11.5"
  }
 },
 "nbformat": 4,
 "nbformat_minor": 5
}
